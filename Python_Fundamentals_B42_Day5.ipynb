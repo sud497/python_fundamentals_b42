{
 "cells": [
  {
   "cell_type": "code",
   "execution_count": null,
   "metadata": {},
   "outputs": [],
   "source": [
    "#continuation with list datatype:"
   ]
  },
  {
   "cell_type": "code",
   "execution_count": 2,
   "metadata": {},
   "outputs": [
    {
     "name": "stdout",
     "output_type": "stream",
     "text": [
      "['jitesh', 'abhi', 'suresh', 'nani', 'bunny']\n"
     ]
    }
   ],
   "source": [
    "students = [\"jitesh\", \"abhi\",\"suresh\",\"nani\",\"bunny\",\"lucky\"]\n",
    "print(students)"
   ]
  },
  {
   "cell_type": "code",
   "execution_count": 3,
   "metadata": {},
   "outputs": [
    {
     "name": "stdout",
     "output_type": "stream",
     "text": [
      "['jitesh', 'abhi', 'suresh', 'nani', 'bunny']\n"
     ]
    }
   ],
   "source": [
    "print(students)"
   ]
  },
  {
   "cell_type": "code",
   "execution_count": 4,
   "metadata": {},
   "outputs": [
    {
     "data": {
      "text/plain": [
       "list"
      ]
     },
     "execution_count": 4,
     "metadata": {},
     "output_type": "execute_result"
    }
   ],
   "source": [
    "type(students)"
   ]
  },
  {
   "cell_type": "code",
   "execution_count": null,
   "metadata": {},
   "outputs": [],
   "source": [
    "# scenario : i want to appreciate the students above"
   ]
  },
  {
   "cell_type": "code",
   "execution_count": 6,
   "metadata": {},
   "outputs": [
    {
     "name": "stdout",
     "output_type": "stream",
     "text": [
      "keep up the good work, Jitesh\n"
     ]
    }
   ],
   "source": [
    "print(f\"keep up the good work, {students[0].title()}\")"
   ]
  },
  {
   "cell_type": "code",
   "execution_count": 7,
   "metadata": {},
   "outputs": [
    {
     "name": "stdout",
     "output_type": "stream",
     "text": [
      "keep up the good work, Suresh\n"
     ]
    }
   ],
   "source": [
    "print(f\"keep up the good work, {students[2].title()}\")"
   ]
  },
  {
   "cell_type": "code",
   "execution_count": null,
   "metadata": {},
   "outputs": [],
   "source": [
    "#i want to write a code all my students that there in list should get the apprcoation email"
   ]
  },
  {
   "cell_type": "code",
   "execution_count": null,
   "metadata": {},
   "outputs": [],
   "source": [
    "# Introduction to for loops"
   ]
  },
  {
   "cell_type": "code",
   "execution_count": null,
   "metadata": {},
   "outputs": [],
   "source": [
    "# General syntex of a for loop"
   ]
  },
  {
   "cell_type": "code",
   "execution_count": null,
   "metadata": {},
   "outputs": [],
   "source": [
    "# Tempvar ---- can be anyone\n",
    "#mainvar  ---- students\n",
    "\n",
    "\n",
    "for tempvar in mainvar:\n",
    "    print(tempvar)      #indentation is mandatory thing (gap)\n",
    "    "
   ]
  },
  {
   "cell_type": "code",
   "execution_count": 16,
   "metadata": {},
   "outputs": [
    {
     "name": "stdout",
     "output_type": "stream",
     "text": [
      "keep up the goodwork, Jitesh\n",
      "keep up the goodwork, Abhi\n",
      "keep up the goodwork, Suresh\n",
      "keep up the goodwork, Nani\n",
      "keep up the goodwork, Bunny\n"
     ]
    }
   ],
   "source": [
    "for x in students:\n",
    "    print(f\"keep up the goodwork, {x.title()}\")\n"
   ]
  },
  {
   "cell_type": "code",
   "execution_count": 18,
   "metadata": {},
   "outputs": [
    {
     "name": "stdout",
     "output_type": "stream",
     "text": [
      "keep the good work Jitesh\n",
      "keep the good work Abhi\n",
      "keep the good work Suresh\n",
      "keep the good work Nani\n",
      "keep the good work Bunny\n"
     ]
    }
   ],
   "source": [
    "for ironman in students:\n",
    "    print(f\"keep the good work {ironman.title()}\")"
   ]
  },
  {
   "cell_type": "code",
   "execution_count": null,
   "metadata": {},
   "outputs": [],
   "source": [
    "#enahancement of the code ....!\n",
    "# i am looking forward to receive the practise file of today ...!"
   ]
  },
  {
   "cell_type": "code",
   "execution_count": 20,
   "metadata": {},
   "outputs": [
    {
     "name": "stdout",
     "output_type": "stream",
     "text": [
      "keep up the goodwork, Jitesh\n",
      "i will be looking forward to receive the practise file of today, Jitesh\n",
      "keep up the goodwork, Abhi\n",
      "i will be looking forward to receive the practise file of today, Abhi\n",
      "keep up the goodwork, Suresh\n",
      "i will be looking forward to receive the practise file of today, Suresh\n",
      "keep up the goodwork, Nani\n",
      "i will be looking forward to receive the practise file of today, Nani\n",
      "keep up the goodwork, Bunny\n",
      "i will be looking forward to receive the practise file of today, Bunny\n"
     ]
    }
   ],
   "source": [
    "# writing in the loop .. it will be applied to all elements in the list\n",
    "for x in students:\n",
    "    print(f\"keep up the goodwork, {x.title()}\")\n",
    "    print(f\"i will be looking forward to receive the practise file of today, {x.title()}\")\n"
   ]
  },
  {
   "cell_type": "code",
   "execution_count": 22,
   "metadata": {},
   "outputs": [
    {
     "name": "stdout",
     "output_type": "stream",
     "text": [
      "keep up the goodwork, Jitesh\n",
      "i will be looking forward to receive the practise file of today, Jitesh.\n",
      "\t\n",
      "keep up the goodwork, Abhi\n",
      "i will be looking forward to receive the practise file of today, Abhi.\n",
      "\t\n",
      "keep up the goodwork, Suresh\n",
      "i will be looking forward to receive the practise file of today, Suresh.\n",
      "\t\n",
      "keep up the goodwork, Nani\n",
      "i will be looking forward to receive the practise file of today, Nani.\n",
      "\t\n",
      "keep up the goodwork, Bunny\n",
      "i will be looking forward to receive the practise file of today, Bunny.\n",
      "\t\n"
     ]
    }
   ],
   "source": [
    "for x in students:\n",
    "    print(f\"keep up the goodwork, {x.title()}\")\n",
    "    print(f\"i will be looking forward to receive the practise file of today, {x.title()}.\\n\\t\")"
   ]
  },
  {
   "cell_type": "code",
   "execution_count": 23,
   "metadata": {},
   "outputs": [
    {
     "name": "stdout",
     "output_type": "stream",
     "text": [
      "keep up the goodwork, Jitesh\n",
      "i will be looking forward to receive the practise file of today, Jitesh.\n",
      "\t\n",
      "keep up the goodwork, Abhi\n",
      "i will be looking forward to receive the practise file of today, Abhi.\n",
      "\t\n",
      "keep up the goodwork, Suresh\n",
      "i will be looking forward to receive the practise file of today, Suresh.\n",
      "\t\n",
      "keep up the goodwork, Nani\n",
      "i will be looking forward to receive the practise file of today, Nani.\n",
      "\t\n",
      "keep up the goodwork, Bunny\n",
      "i will be looking forward to receive the practise file of today, Bunny.\n",
      "\t\n",
      "thank you all showing interest to learn python\n"
     ]
    }
   ],
   "source": [
    "for x in students:\n",
    "    print(f\"keep up the goodwork, {x.title()}\")\n",
    "    print(f\"i will be looking forward to receive the practise file of today, {x.title()}.\\n\\t\")\n",
    "print(\"thank you all showing interest to learn python\")"
   ]
  },
  {
   "cell_type": "code",
   "execution_count": null,
   "metadata": {},
   "outputs": [],
   "source": []
  },
  {
   "cell_type": "code",
   "execution_count": 24,
   "metadata": {},
   "outputs": [
    {
     "name": "stdout",
     "output_type": "stream",
     "text": [
      "keep the good work Jitesh\n",
      "keep the good work Abhi\n",
      "keep the good work Suresh\n",
      "keep the good work Nani\n",
      "keep the good work Bunny\n"
     ]
    }
   ],
   "source": [
    "for ironman in students:\n",
    "    print(f\"keep the good work {ironman.title()}\")"
   ]
  },
  {
   "cell_type": "code",
   "execution_count": null,
   "metadata": {},
   "outputs": [],
   "source": []
  },
  {
   "cell_type": "code",
   "execution_count": null,
   "metadata": {},
   "outputs": [],
   "source": []
  },
  {
   "cell_type": "code",
   "execution_count": null,
   "metadata": {},
   "outputs": [],
   "source": []
  },
  {
   "cell_type": "code",
   "execution_count": null,
   "metadata": {},
   "outputs": [],
   "source": []
  },
  {
   "cell_type": "code",
   "execution_count": null,
   "metadata": {
    "collapsed": true
   },
   "outputs": [],
   "source": []
  }
 ],
 "metadata": {
  "kernelspec": {
   "display_name": "Python 3",
   "language": "python",
   "name": "python3"
  },
  "language_info": {
   "codemirror_mode": {
    "name": "ipython",
    "version": 3
   },
   "file_extension": ".py",
   "mimetype": "text/x-python",
   "name": "python",
   "nbconvert_exporter": "python",
   "pygments_lexer": "ipython3",
   "version": "3.8.5"
  }
 },
 "nbformat": 4,
 "nbformat_minor": 4
}
